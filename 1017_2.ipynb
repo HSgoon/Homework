{
 "cells": [
  {
   "cell_type": "code",
   "execution_count": 60,
   "id": "128b29ef-744f-4001-ab64-704f7b692ce8",
   "metadata": {},
   "outputs": [
    {
     "name": "stdout",
     "output_type": "stream",
     "text": [
      "이름: 이현승, 성별: male\n",
      "나이: 30\n"
     ]
    }
   ],
   "source": [
    "class Person:\n",
    "    def __init__(self, name, gender, age):\n",
    "        self.name = name\n",
    "        self.gender = gender\n",
    "        self.age = age\n",
    "\n",
    "    def display(self):\n",
    "        print(f\"이름: {self.name}, 성별: {self.gender}\")\n",
    "        print(f\"나이: {self.age}\")\n",
    "\n",
    "#예시\n",
    "lee = Person('이현승',\"male\",30)\n",
    "lee.display()"
   ]
  }
 ],
 "metadata": {
  "kernelspec": {
   "display_name": "Python 3 (ipykernel)",
   "language": "python",
   "name": "python3"
  },
  "language_info": {
   "codemirror_mode": {
    "name": "ipython",
    "version": 3
   },
   "file_extension": ".py",
   "mimetype": "text/x-python",
   "name": "python",
   "nbconvert_exporter": "python",
   "pygments_lexer": "ipython3",
   "version": "3.12.4"
  }
 },
 "nbformat": 4,
 "nbformat_minor": 5
}
