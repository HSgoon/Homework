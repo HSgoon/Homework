{
 "cells": [
  {
   "cell_type": "code",
   "execution_count": 23,
   "id": "6af5aefe-1832-4632-90bb-e4e5086ca0c4",
   "metadata": {},
   "outputs": [
    {
     "name": "stdout",
     "output_type": "stream",
     "text": [
      "1과 10 사이의 숫자를 하나 정했습니다.\n",
      "이 숫자는 무엇일까요?\n"
     ]
    },
    {
     "name": "stdin",
     "output_type": "stream",
     "text": [
      "예상 숫자: 3\n"
     ]
    },
    {
     "name": "stdout",
     "output_type": "stream",
     "text": [
      "정답입니다!\n"
     ]
    }
   ],
   "source": [
    "print(\"1과 10 사이의 숫자를 하나 정했습니다.\")\n",
    "print(\"이 숫자는 무엇일까요?\")\n",
    "randnum = random.randrange(1,10)\n",
    "while True:\n",
    "    expnum = int(input(\"예상 숫자:\"))\n",
    "    if expnum > randnum:\n",
    "        print(\"너무 큽니다. 다시 입력해 주세요.\")\n",
    "    elif expnum < randnum:\n",
    "        print(\"너무 작습니다. 다시 입력해 주세요.\")\n",
    "    else:\n",
    "        print(\"정답입니다!\")\n",
    "        break"
   ]
  },
  {
   "cell_type": "code",
   "execution_count": null,
   "id": "ca79f983-eec7-4cbf-bf22-a3d2631ca83e",
   "metadata": {},
   "outputs": [],
   "source": []
  }
 ],
 "metadata": {
  "kernelspec": {
   "display_name": "Python 3 (ipykernel)",
   "language": "python",
   "name": "python3"
  },
  "language_info": {
   "codemirror_mode": {
    "name": "ipython",
    "version": 3
   },
   "file_extension": ".py",
   "mimetype": "text/x-python",
   "name": "python",
   "nbconvert_exporter": "python",
   "pygments_lexer": "ipython3",
   "version": "3.12.4"
  }
 },
 "nbformat": 4,
 "nbformat_minor": 5
}
